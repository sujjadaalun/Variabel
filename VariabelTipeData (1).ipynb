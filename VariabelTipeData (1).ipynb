{
 "cells": [
  {
   "cell_type": "markdown",
   "id": "2f0dc8e9",
   "metadata": {},
   "source": [
    "<h1>Variabel dan Tipe Data</h1><hr>\n",
    "Tipe Data pada Python adalah:\n",
    "<ol>\n",
    "    <li>Float - (float)</li>\n",
    "    <li>String - (str)</li>\n",
    "    <li>Boolean - (bool)</li>\n",
    "    <li>Integer - (int)</li>\n",
    "</ol><hr>\n",
    "<font color=\"blue\"><i>Aturan Penamaan Variabel:</i></font>\n",
    "<ul>\n",
    "    <li>Tidak boleh menggunakan spasi</li>\n",
    "    <li>Bersifat case sensitive=> A != a</li>\n",
    "    <li>Terdiri dari huruf, angka dan karakter _ (underscore)</li>\n",
    "    <li>Diawali underscore atau huruf</li>\n",
    "    <li>Tidak boleh menggunakan reserved keyword</li>\n",
    "</ul>"
   ]
  },
  {
   "cell_type": "code",
   "execution_count": 6,
   "id": "5fff0b60",
   "metadata": {},
   "outputs": [
    {
     "name": "stdout",
     "output_type": "stream",
     "text": [
      "100\n",
      "50.6\n",
      "1\n",
      "False\n"
     ]
    }
   ],
   "source": [
    "data_integer = 100\n",
    "data_float = 50.6\n",
    "data_string = \"1\"\n",
    "data_boolean = False\n",
    "data_string\n",
    "print(data_integer)\n",
    "print(data_float)\n",
    "print(data_string)\n",
    "print(data_boolean)"
   ]
  },
  {
   "cell_type": "code",
   "execution_count": 9,
   "id": "28847e9d",
   "metadata": {},
   "outputs": [
    {
     "name": "stdout",
     "output_type": "stream",
     "text": [
      "<class 'int'>\n",
      "<class 'float'>\n",
      "<class 'str'>\n",
      "<class 'bool'>\n"
     ]
    }
   ],
   "source": [
    "print(type(data_integer))\n",
    "print(type(data_float))\n",
    "print(type(data_string))\n",
    "print(type(data_boolean))"
   ]
  },
  {
   "cell_type": "markdown",
   "id": "cb5e1b7e",
   "metadata": {},
   "source": [
    "<h3>Konversi Tipe Data dari Integer ke (String,Float,Boolean)</h3>"
   ]
  },
  {
   "cell_type": "code",
   "execution_count": 2,
   "id": "1b49a9ea",
   "metadata": {},
   "outputs": [
    {
     "name": "stdout",
     "output_type": "stream",
     "text": [
      "Isikan Bilangan 110\n",
      "Isikan Bilangan 210\n",
      "20\n"
     ]
    }
   ],
   "source": [
    "bil1 = input(\"Isikan Bilangan 1\")\n",
    "bil2 = input(\"Isikan Bilangan 2\")\n",
    "hasil = int(bil1) + int(bil2)\n",
    "print(hasil)"
   ]
  },
  {
   "cell_type": "code",
   "execution_count": 7,
   "id": "3c295b76",
   "metadata": {},
   "outputs": [
    {
     "name": "stdout",
     "output_type": "stream",
     "text": [
      "1\n",
      "50\n",
      "0\n",
      "<class 'int'>\n",
      "<class 'int'>\n",
      "<class 'int'>\n"
     ]
    }
   ],
   "source": [
    "string_to_int = int(data_string)\n",
    "float_to_int = int(data_float)\n",
    "bool_to_int = int(data_boolean)\n",
    "\n",
    "print(string_to_int)\n",
    "print(float_to_int)\n",
    "print(bool_to_int)\n",
    "\n",
    "print(type(string_to_int))\n",
    "print(type(float_to_int))\n",
    "print(type(bool_to_int))"
   ]
  }
 ],
 "metadata": {
  "kernelspec": {
   "display_name": "Python 3 (ipykernel)",
   "language": "python",
   "name": "python3"
  },
  "language_info": {
   "codemirror_mode": {
    "name": "ipython",
    "version": 3
   },
   "file_extension": ".py",
   "mimetype": "text/x-python",
   "name": "python",
   "nbconvert_exporter": "python",
   "pygments_lexer": "ipython3",
   "version": "3.11.5"
  }
 },
 "nbformat": 4,
 "nbformat_minor": 5
}
